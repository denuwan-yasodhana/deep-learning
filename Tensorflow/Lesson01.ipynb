{
 "cells": [
  {
   "cell_type": "code",
   "execution_count": 1,
   "id": "9f50f98c-ddad-4e81-8306-39ee8ed0a410",
   "metadata": {},
   "outputs": [
    {
     "name": "stdout",
     "output_type": "stream",
     "text": [
      "<module 'tensorflow._api.v2.version' from 'c:\\\\users\\\\user\\\\appdata\\\\local\\\\programs\\\\python\\\\python39\\\\lib\\\\site-packages\\\\tensorflow\\\\_api\\\\v2\\\\version\\\\__init__.py'>\n"
     ]
    }
   ],
   "source": [
    "import tensorflow as tf\n",
    "print(tf.version)"
   ]
  },
  {
   "cell_type": "code",
   "execution_count": 11,
   "id": "337a2a7f-eeaa-46c9-b3f0-d6b3785141a9",
   "metadata": {},
   "outputs": [
    {
     "name": "stdout",
     "output_type": "stream",
     "text": [
      "tf.Tensor(1, shape=(), dtype=int32)\n",
      "tf.Tensor(2, shape=(), dtype=int32)\n",
      "tf.Tensor(2, shape=(), dtype=int32)\n",
      "(2, 3)\n",
      "(3, 3)\n"
     ]
    }
   ],
   "source": [
    "#Create difference tensors\n",
    "string = tf.Variable(\"This is String\", tf.string)\n",
    "int = tf.Variable(1515, tf.int16)\n",
    "float = tf.Variable(48.6566, tf.float64)\n",
    "\n",
    "# with high degree/rank\n",
    "rank1_tensor = tf.Variable([\"apple\", \"orange\", \"pineapple\"], tf.string)\n",
    "rank2_tensor = tf.Variable([[\"apple\", \"orange\", \"pineapple\"],[\"A\", \"B\", \"C\"]], tf.string)\n",
    "rank3_tensor = tf.Variable([[\"apple\", \"orange\", \"pineapple\"],[\"A\", \"B\", \"C\"],[\"E\", \"F\", \"G\"]], tf.string)\n",
    "\n",
    "print(tf.rank(rank1_tensor))\n",
    "print(tf.rank(rank2_tensor))\n",
    "print(tf.rank(rank3_tensor))\n",
    "\n",
    "#shape of tensor(amount of elements that exist in each dimension)\n",
    "print(rank2_tensor.shape)\n",
    "print(rank3_tensor.shape)"
   ]
  },
  {
   "cell_type": "code",
   "execution_count": 13,
   "id": "d985f22e-1018-4b5c-a29c-68d845f403cf",
   "metadata": {},
   "outputs": [
    {
     "name": "stdout",
     "output_type": "stream",
     "text": [
      "tf.Tensor(\n",
      "[[[1. 1. 1.]\n",
      "  [1. 1. 1.]]], shape=(1, 2, 3), dtype=float32)\n",
      "tf.Tensor(\n",
      "[[[1.]\n",
      "  [1.]\n",
      "  [1.]]\n",
      "\n",
      " [[1.]\n",
      "  [1.]\n",
      "  [1.]]], shape=(2, 3, 1), dtype=float32)\n",
      "tf.Tensor(\n",
      "[[1. 1.]\n",
      " [1. 1.]\n",
      " [1. 1.]], shape=(3, 2), dtype=float32)\n"
     ]
    }
   ],
   "source": [
    "#change the shape of tensor\n",
    "tensor1 = tf.ones([1, 2, 3])  # element \"1\", raws \"2\", columns \"3\" \n",
    "tensor2 = tf.reshape(tensor1, [2, 3, 1])\n",
    "tensor3 = tf.reshape(tensor2, [3, -1])\n",
    "\n",
    "print(tensor1)\n",
    "print(tensor2)\n",
    "print(tensor3)"
   ]
  },
  {
   "cell_type": "code",
   "execution_count": null,
   "id": "983f2978-de91-4aad-a9e9-dee3ec1c8485",
   "metadata": {},
   "outputs": [],
   "source": []
  }
 ],
 "metadata": {
  "kernelspec": {
   "display_name": "Python 3 (ipykernel)",
   "language": "python",
   "name": "python3"
  },
  "language_info": {
   "codemirror_mode": {
    "name": "ipython",
    "version": 3
   },
   "file_extension": ".py",
   "mimetype": "text/x-python",
   "name": "python",
   "nbconvert_exporter": "python",
   "pygments_lexer": "ipython3",
   "version": "3.9.0"
  }
 },
 "nbformat": 4,
 "nbformat_minor": 5
}
